{
 "cells": [
  {
   "cell_type": "markdown",
   "id": "b571bf15-e0f9-43d4-ada5-e4072eb70a84",
   "metadata": {},
   "source": [
    "### How to program with Python and R in the same Jupyter notebook\n",
    "\n",
    "This is within the birdnet (i.e., python 3) kernel, so I need to use R magic, which means I need to start every R command with %R"
   ]
  },
  {
   "cell_type": "code",
   "execution_count": 2,
   "id": "1cf6ab65-0775-4c65-9946-c6f34be6a3da",
   "metadata": {},
   "outputs": [],
   "source": [
    "%load_ext rpy2.ipython"
   ]
  },
  {
   "cell_type": "code",
   "execution_count": 3,
   "id": "3afc9029-c865-4707-a2c2-592084ca4038",
   "metadata": {},
   "outputs": [
    {
     "name": "stdout",
     "output_type": "stream",
     "text": [
      "[1] \"Hello World\"\n"
     ]
    },
    {
     "data": {
      "text/html": [
       "\n",
       "        <span>StrVector with 1 elements.</span>\n",
       "        <table>\n",
       "        <tbody>\n",
       "          <tr>\n",
       "          \n",
       "            <td>\n",
       "            'Hello World'\n",
       "            </td>\n",
       "          \n",
       "          </tr>\n",
       "        </tbody>\n",
       "        </table>\n",
       "        "
      ],
      "text/plain": [
       "<rpy2.robjects.vectors.StrVector object at 0x7f2d98464a50> [RTYPES.STRSXP]\n",
       "R classes: ('character',)\n",
       "['Hello World']"
      ]
     },
     "execution_count": 3,
     "metadata": {},
     "output_type": "execute_result"
    }
   ],
   "source": [
    "%R print(\"Hello World\")"
   ]
  },
  {
   "cell_type": "code",
   "execution_count": 8,
   "id": "b866ed3d-a9c8-4ac3-86b7-b2ab571a1b5f",
   "metadata": {},
   "outputs": [
    {
     "data": {
      "image/png": "[encoded data removed]"
     },
     "metadata": {},
     "output_type": "display_data"
    }
   ],
   "source": [
    "%R a <-rnorm(100)\n",
    "%R plot(a)"
   ]
  },
  {
   "cell_type": "markdown",
   "id": "9dd1bf48-e867-45e5-99fb-c7f2fb2a38be",
   "metadata": {},
   "source": [
    "Sweet!"
   ]
  }
 ],
 "metadata": {
  "kernelspec": {
   "display_name": "birdnet",
   "language": "python",
   "name": "birdnet"
  },
  "language_info": {
   "codemirror_mode": {
    "name": "ipython",
    "version": 3
   },
   "file_extension": ".py",
   "mimetype": "text/x-python",
   "name": "python",
   "nbconvert_exporter": "python",
   "pygments_lexer": "ipython3",
   "version": "3.7.11"
  }
 },
 "nbformat": 4,
 "nbformat_minor": 5
}
